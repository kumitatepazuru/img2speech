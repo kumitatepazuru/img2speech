{
 "nbformat": 4,
 "nbformat_minor": 0,
 "metadata": {
  "colab": {
   "name": "3_1_classification.ipynb",
   "version": "0.3.2",
   "provenance": [],
   "collapsed_sections": []
  },
  "kernelspec": {
   "display_name": "Python 3",
   "language": "python",
   "name": "python3"
  }
 },
 "cells": [
  {
   "metadata": {
    "colab_type": "code",
    "id": "cgT69wQ6cfxK",
    "colab": {}
   },
   "cell_type": "code",
   "source": [
    "# パッケージのインポート\n",
    "from tensorflow.keras.datasets import mnist\n",
    "from tensorflow.keras.layers import Dense, Dropout\n",
    "from tensorflow.keras.models import Sequential\n",
    "from tensorflow.keras.optimizers import SGD\n",
    "from tensorflow.keras.utils import to_categorical\n",
    "import numpy as np\n",
    "import matplotlib.pyplot as plt\n",
    "%matplotlib inline"
   ],
   "execution_count": 1,
   "outputs": [
    {
     "ename": "ModuleNotFoundError",
     "evalue": "No module named 'matplotlib'",
     "output_type": "error",
     "traceback": [
      "\u001B[0;31m---------------------------------------------------------------------------\u001B[0m",
      "\u001B[0;31mModuleNotFoundError\u001B[0m                       Traceback (most recent call last)",
      "\u001B[0;32m<ipython-input-1-a86e3eb335b7>\u001B[0m in \u001B[0;36m<module>\u001B[0;34m\u001B[0m\n\u001B[1;32m      6\u001B[0m \u001B[0;32mfrom\u001B[0m \u001B[0mtensorflow\u001B[0m\u001B[0;34m.\u001B[0m\u001B[0mkeras\u001B[0m\u001B[0;34m.\u001B[0m\u001B[0mutils\u001B[0m \u001B[0;32mimport\u001B[0m \u001B[0mto_categorical\u001B[0m\u001B[0;34m\u001B[0m\u001B[0m\n\u001B[1;32m      7\u001B[0m \u001B[0;32mimport\u001B[0m \u001B[0mnumpy\u001B[0m \u001B[0;32mas\u001B[0m \u001B[0mnp\u001B[0m\u001B[0;34m\u001B[0m\u001B[0m\n\u001B[0;32m----> 8\u001B[0;31m \u001B[0;32mimport\u001B[0m \u001B[0mmatplotlib\u001B[0m\u001B[0;34m.\u001B[0m\u001B[0mpyplot\u001B[0m \u001B[0;32mas\u001B[0m \u001B[0mplt\u001B[0m\u001B[0;34m\u001B[0m\u001B[0m\n\u001B[0m\u001B[1;32m      9\u001B[0m \u001B[0mget_ipython\u001B[0m\u001B[0;34m(\u001B[0m\u001B[0;34m)\u001B[0m\u001B[0;34m.\u001B[0m\u001B[0mrun_line_magic\u001B[0m\u001B[0;34m(\u001B[0m\u001B[0;34m'matplotlib'\u001B[0m\u001B[0;34m,\u001B[0m \u001B[0;34m'inline'\u001B[0m\u001B[0;34m)\u001B[0m\u001B[0;34m\u001B[0m\u001B[0m\n\u001B[1;32m     10\u001B[0m \u001B[0;34m\u001B[0m\u001B[0m\n",
      "\u001B[0;31mModuleNotFoundError\u001B[0m: No module named 'matplotlib'"
     ]
    }
   ]
  },
  {
   "metadata": {
    "colab_type": "code",
    "id": "7P7GT_qjcfxQ",
    "colab": {}
   },
   "cell_type": "code",
   "source": [
    "# データセットの準備\n",
    "(train_images, train_labels), (test_images, test_labels) = mnist.load_data()"
   ],
   "execution_count": null,
   "outputs": []
  },
  {
   "metadata": {
    "colab_type": "code",
    "executionInfo": {
     "status": "ok",
     "timestamp": 1555637750113,
     "user_tz": -540,
     "elapsed": 1239,
     "user": {
      "displayName": "Hidekazu Furukawa",
      "photoUrl": "https://lh6.googleusercontent.com/-k_ANWEaFIwk/AAAAAAAAAAI/AAAAAAAAHoA/UsKZpxAKtWs/s64/photo.jpg",
      "userId": "05645491730477251378"
     }
    },
    "id": "adSFT4dGcfxS",
    "outputId": "f73e205d-99ae-43e7-dd89-d801a1f85f33",
    "colab": {
     "base_uri": "https://localhost:8080/",
     "height": 85
    }
   },
   "cell_type": "code",
   "source": [
    "# データセットのシェイプの確認\n",
    "print(train_images.shape)\n",
    "print(train_labels.shape)\n",
    "print(test_images.shape)\n",
    "print(test_labels.shape)"
   ],
   "execution_count": null,
   "outputs": []
  },
  {
   "metadata": {
    "colab_type": "code",
    "executionInfo": {
     "status": "ok",
     "timestamp": 1555637750961,
     "user_tz": -540,
     "elapsed": 2078,
     "user": {
      "displayName": "Hidekazu Furukawa",
      "photoUrl": "https://lh6.googleusercontent.com/-k_ANWEaFIwk/AAAAAAAAAAI/AAAAAAAAHoA/UsKZpxAKtWs/s64/photo.jpg",
      "userId": "05645491730477251378"
     }
    },
    "id": "-bajeUc2cfxU",
    "outputId": "1d92a3ba-f1c8-4a3f-a0a5-c8d5ae732d89",
    "colab": {
     "base_uri": "https://localhost:8080/",
     "height": 80
    }
   },
   "cell_type": "code",
   "source": [
    "# データセットの画像の確認\n",
    "for i in range(10):\n",
    "    plt.subplot(1, 10, i+1)\n",
    "    plt.imshow(train_images[i], 'gray')\n",
    "plt.show()"
   ],
   "execution_count": null,
   "outputs": []
  },
  {
   "metadata": {
    "colab_type": "code",
    "executionInfo": {
     "status": "ok",
     "timestamp": 1555637750963,
     "user_tz": -540,
     "elapsed": 2072,
     "user": {
      "displayName": "Hidekazu Furukawa",
      "photoUrl": "https://lh6.googleusercontent.com/-k_ANWEaFIwk/AAAAAAAAAAI/AAAAAAAAHoA/UsKZpxAKtWs/s64/photo.jpg",
      "userId": "05645491730477251378"
     }
    },
    "id": "2vqNwlFUcfxX",
    "outputId": "175a0161-f9c6-419e-c58f-3049abbc1669",
    "colab": {
     "base_uri": "https://localhost:8080/",
     "height": 34
    }
   },
   "cell_type": "code",
   "source": [
    "# データセットのラベルの確認\n",
    "print(train_labels[0:10])"
   ],
   "execution_count": null,
   "outputs": []
  },
  {
   "metadata": {
    "colab_type": "code",
    "executionInfo": {
     "status": "ok",
     "timestamp": 1555637750963,
     "user_tz": -540,
     "elapsed": 2064,
     "user": {
      "displayName": "Hidekazu Furukawa",
      "photoUrl": "https://lh6.googleusercontent.com/-k_ANWEaFIwk/AAAAAAAAAAI/AAAAAAAAHoA/UsKZpxAKtWs/s64/photo.jpg",
      "userId": "05645491730477251378"
     }
    },
    "id": "6Pop1amkcfxZ",
    "outputId": "ea7bfc90-8f17-4ef5-c50f-5251671aafe8",
    "colab": {
     "base_uri": "https://localhost:8080/",
     "height": 51
    }
   },
   "cell_type": "code",
   "source": [
    "# データセットの画像の前処理\n",
    "train_images = train_images.reshape((train_images.shape[0], 784))\n",
    "test_images = test_images.reshape((test_images.shape[0], 784))\n",
    "\n",
    "# データセットの画像の前処理後のシェイプの確認\n",
    "print(train_images.shape)\n",
    "print(test_images.shape)"
   ],
   "execution_count": null,
   "outputs": []
  },
  {
   "metadata": {
    "colab_type": "code",
    "executionInfo": {
     "status": "ok",
     "timestamp": 1555637750964,
     "user_tz": -540,
     "elapsed": 2057,
     "user": {
      "displayName": "Hidekazu Furukawa",
      "photoUrl": "https://lh6.googleusercontent.com/-k_ANWEaFIwk/AAAAAAAAAAI/AAAAAAAAHoA/UsKZpxAKtWs/s64/photo.jpg",
      "userId": "05645491730477251378"
     }
    },
    "id": "6RgG6gGEcfxc",
    "outputId": "4100c4b8-8822-4df4-aaee-6f161fbf510e",
    "colab": {
     "base_uri": "https://localhost:8080/",
     "height": 51
    }
   },
   "cell_type": "code",
   "source": [
    "# データセットのラベルの前処理\n",
    "train_labels = to_categorical(train_labels)\n",
    "test_labels = to_categorical(test_labels)\n",
    "\n",
    "# データセットのラベルの前処理後のシェイプの確認\n",
    "print(train_labels.shape)\n",
    "print(test_labels.shape)"
   ],
   "execution_count": null,
   "outputs": []
  },
  {
   "metadata": {
    "colab_type": "code",
    "id": "iHOr634gcfxf",
    "colab": {}
   },
   "cell_type": "code",
   "source": [
    "# モデルの作成\n",
    "model = Sequential()\n",
    "model.add(Dense(256, activation='sigmoid', input_shape=(784,))) # 入力層\n",
    "model.add(Dense(128, activation='sigmoid')) # 隠れ層\n",
    "model.add(Dropout(rate=0.5)) # ドロップアウト\n",
    "model.add(Dense(10, activation='softmax')) # 出力層"
   ],
   "execution_count": null,
   "outputs": []
  },
  {
   "cell_type": "code",
   "execution_count": null,
   "outputs": [],
   "source": [
    "# コンパイル\n",
    "model.compile(loss='categorical_crossentropy', optimizer=SGD(lr=0.1), metrics=['acc'])"
   ],
   "metadata": {
    "collapsed": false,
    "pycharm": {
     "name": "#%%\n"
    }
   }
  },
  {
   "metadata": {
    "colab_type": "code",
    "executionInfo": {
     "status": "ok",
     "timestamp": 1555637759995,
     "user_tz": -540,
     "elapsed": 11074,
     "user": {
      "displayName": "Hidekazu Furukawa",
      "photoUrl": "https://lh6.googleusercontent.com/-k_ANWEaFIwk/AAAAAAAAAAI/AAAAAAAAHoA/UsKZpxAKtWs/s64/photo.jpg",
      "userId": "05645491730477251378"
     }
    },
    "id": "rXVq3Hwycfxj",
    "outputId": "95f9d116-2d51-485f-bba8-3f734b48c6f3",
    "colab": {
     "base_uri": "https://localhost:8080/",
     "height": 902
    }
   },
   "cell_type": "code",
   "source": [
    "# 学習\n",
    "history = model.fit(train_images, train_labels, batch_size=500, \n",
    "    epochs=5, validation_split=0.2)"
   ],
   "execution_count": null,
   "outputs": []
  },
  {
   "metadata": {
    "colab_type": "code",
    "executionInfo": {
     "status": "ok",
     "timestamp": 1555637760274,
     "user_tz": -540,
     "elapsed": 11346,
     "user": {
      "displayName": "Hidekazu Furukawa",
      "photoUrl": "https://lh6.googleusercontent.com/-k_ANWEaFIwk/AAAAAAAAAAI/AAAAAAAAHoA/UsKZpxAKtWs/s64/photo.jpg",
      "userId": "05645491730477251378"
     }
    },
    "id": "ATFYEN0xcfxm",
    "outputId": "45fea60c-9a14-4d10-bc64-9361dba4ed81",
    "colab": {
     "base_uri": "https://localhost:8080/",
     "height": 283
    }
   },
   "cell_type": "code",
   "source": [
    "# グラフの表示\n",
    "plt.plot(history.history['acc'], label='acc')\n",
    "plt.plot(history.history['val_acc'], label='val_acc')\n",
    "plt.ylabel('accuracy')\n",
    "plt.xlabel('epoch')\n",
    "plt.legend(loc='best')\n",
    "plt.show()"
   ],
   "execution_count": null,
   "outputs": []
  },
  {
   "metadata": {
    "colab_type": "code",
    "executionInfo": {
     "status": "ok",
     "timestamp": 1555637760699,
     "user_tz": -540,
     "elapsed": 11763,
     "user": {
      "displayName": "Hidekazu Furukawa",
      "photoUrl": "https://lh6.googleusercontent.com/-k_ANWEaFIwk/AAAAAAAAAAI/AAAAAAAAHoA/UsKZpxAKtWs/s64/photo.jpg",
      "userId": "05645491730477251378"
     }
    },
    "id": "ywNkSnu2cfxo",
    "outputId": "b8bb8979-f404-45af-a994-487d16a7d938",
    "colab": {
     "base_uri": "https://localhost:8080/",
     "height": 68
    },
    "pycharm": {
     "name": "#%%\n"
    }
   },
   "cell_type": "code",
   "source": [
    "# 評価\n",
    "test_loss, test_acc = model.evaluate(test_images, test_labels)\n",
    "print('loss: {:.3f}\\nacc: {:.3f}'.format(test_loss, test_acc ))"
   ],
   "execution_count": null,
   "outputs": []
  },
  {
   "cell_type": "code",
   "execution_count": null,
   "outputs": [],
   "source": [
    "# 推論する画像の表示\n",
    "for i in range(10):\n",
    "    plt.subplot(1, 10, i+1)\n",
    "    plt.imshow(test_images[i].reshape((28, 28)), 'gray')\n",
    "plt.show()\n",
    "\n",
    "# 推論したラベルの表示\n",
    "test_predictions = model.predict(test_images[0:10])\n",
    "test_predictions = np.argmax(test_predictions, axis=1)\n",
    "print(test_predictions)"
   ],
   "metadata": {
    "collapsed": false,
    "pycharm": {
     "name": "#%%\n"
    }
   }
  }
 ]
}